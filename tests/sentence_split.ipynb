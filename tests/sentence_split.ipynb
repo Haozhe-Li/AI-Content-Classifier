{
 "cells": [
  {
   "cell_type": "code",
   "execution_count": 7,
   "metadata": {},
   "outputs": [
    {
     "name": "stdout",
     "output_type": "stream",
     "text": [
      "['\\n早上好，中国！', '我的名字是霍华德！', '\\n']\n"
     ]
    }
   ],
   "source": [
    "from sentencex import segment\n",
    "\n",
    "text = \"\"\"\n",
    "早上好，中国！我的名字是霍华德！\n",
    "\"\"\"\n",
    "print(list(segment(language=\"\", text=text)))\n",
    "\n",
    "\n"
   ]
  }
 ],
 "metadata": {
  "kernelspec": {
   "display_name": "venv",
   "language": "python",
   "name": "python3"
  },
  "language_info": {
   "codemirror_mode": {
    "name": "ipython",
    "version": 3
   },
   "file_extension": ".py",
   "mimetype": "text/x-python",
   "name": "python",
   "nbconvert_exporter": "python",
   "pygments_lexer": "ipython3",
   "version": "3.12.7"
  }
 },
 "nbformat": 4,
 "nbformat_minor": 2
}
